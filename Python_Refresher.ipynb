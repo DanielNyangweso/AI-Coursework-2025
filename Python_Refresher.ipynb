{
 "cells": [
  {
   "cell_type": "code",
   "execution_count": 1,
   "id": "315fb80b",
   "metadata": {},
   "outputs": [
    {
     "name": "stdout",
     "output_type": "stream",
     "text": [
      "6days have 8640 seconds\n"
     ]
    }
   ],
   "source": [
    "#QUESTION 1 : Program to calculate seconds in given days\n",
    "days = int(input(\"Enter number of days: \")) # Ask user for days\n",
    "seconds = days * 24 * 60 #Convert days to seconds\n",
    "print(f\"{days}days have {seconds} seconds\")"
   ]
  },
  {
   "cell_type": "code",
   "execution_count": 2,
   "id": "9708657b",
   "metadata": {},
   "outputs": [
    {
     "name": "stdout",
     "output_type": "stream",
     "text": [
      "The volume of the sphere is: 1436.7550402417319\n"
     ]
    }
   ],
   "source": [
    "#QUESTION 2: Calculate the volume of a sphere\n",
    "import math\n",
    "\n",
    "radius = float(input(\"Enter radius of the sphere: \"))\n",
    "volume = (4/3) * math.pi * (radius ** 3) # r to power3 using **\n",
    "print(f\"The volume of the sphere is: {volume}\")"
   ]
  },
  {
   "cell_type": "code",
   "execution_count": 3,
   "id": "118d0852",
   "metadata": {},
   "outputs": [
    {
     "name": "stdout",
     "output_type": "stream",
     "text": [
      "The area of the square is :16.0\n",
      "The perimeter is:16.0 \n"
     ]
    }
   ],
   "source": [
    "#QUESTION 3: Program to calculate area and perimeter of a square usingfunctions\n",
    "\n",
    "def square_area(side):\n",
    "    return side**2 \n",
    "\n",
    "def square_perimeter(side):\n",
    "    return 4* side\n",
    "\n",
    "#Asking for input \n",
    "side_length = float(input(\"Enter the side length of the square: \"))\n",
    "\n",
    "#computing using functions\n",
    "area = square_area(side_length)\n",
    "perimeter = square_perimeter(side_length)\n",
    "\n",
    "# display results\n",
    "print(f\"The area of the square is :{area}\")\n",
    "print(f\"The perimeter is:{perimeter} \")\n"
   ]
  },
  {
   "cell_type": "code",
   "execution_count": null,
   "id": "07aaff12",
   "metadata": {},
   "outputs": [
    {
     "name": "stdout",
     "output_type": "stream",
     "text": [
      "This character is lowercase.\n"
     ]
    }
   ],
   "source": [
    "#QUESTION4: Program that checks if character is upercase or lowercase using functions\n",
    "\n",
    "def check_case (char):\n",
    "    if char.isupper():\n",
    "        return \"This character is uppercase.\"\n",
    "    elif char.islower():\n",
    "        return \"This character is lowercase.\"\n",
    "    else:\n",
    "        return \"This character is not a letter.\"\n",
    "    \n",
    "char_input = input(\" Enter single character\")\n",
    "\n",
    "#Make sure only one character was entered\n",
    "if len(char_input) == 1:\n",
    "    result = check_case(char_input)\n",
    "    print(result)\n",
    "else:\n",
    "    print(\"Please enter only one character: \")\n",
    "    "
   ]
  },
  {
   "cell_type": "code",
   "execution_count": 7,
   "id": "9dfd8e85",
   "metadata": {},
   "outputs": [
    {
     "name": "stdout",
     "output_type": "stream",
     "text": [
      "Final value of x is: 1.0416666666666665\n"
     ]
    }
   ],
   "source": [
    "#QUESTION 5: Convert pseudocode to python program\n",
    "x=0\n",
    "y=20\n",
    "\n",
    "# loop \n",
    "while y>=6:\n",
    "    y = y- 4\n",
    "    x = x+ (2/y)\n",
    "print(\"Final value of x is:\" ,x)\n"
   ]
  },
  {
   "cell_type": "code",
   "execution_count": 8,
   "id": "06459590",
   "metadata": {},
   "outputs": [
    {
     "name": "stdout",
     "output_type": "stream",
     "text": [
      "Values entered: [5.0, 6.0, 7.0, 8.0, 9.0]\n",
      "The average of the value is: 7.0\n"
     ]
    }
   ],
   "source": [
    "#QUESTION6 : An Array to colect and avegrage 5 values\n",
    "\n",
    "values=[]\n",
    "\n",
    "#loop to collect 5 values\n",
    "for i in range (5):\n",
    "    num = float(input(f\"Enter value{i+1}: \"))\n",
    "    values.append(num)\n",
    "\n",
    "#calculate average\n",
    "\n",
    "average = sum(values) /len(values)\n",
    "\n",
    "#display results\n",
    "print(\"Values entered:\", values)\n",
    "print(\"The average of the value is:\", average)"
   ]
  }
 ],
 "metadata": {
  "kernelspec": {
   "display_name": "Python 3",
   "language": "python",
   "name": "python3"
  },
  "language_info": {
   "codemirror_mode": {
    "name": "ipython",
    "version": 3
   },
   "file_extension": ".py",
   "mimetype": "text/x-python",
   "name": "python",
   "nbconvert_exporter": "python",
   "pygments_lexer": "ipython3",
   "version": "3.12.6"
  }
 },
 "nbformat": 4,
 "nbformat_minor": 5
}
